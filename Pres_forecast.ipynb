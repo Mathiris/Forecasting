{
 "cells": [
  {
   "cell_type": "markdown",
   "metadata": {},
   "source": [
    "# Import"
   ]
  },
  {
   "cell_type": "code",
   "execution_count": 2,
   "metadata": {},
   "outputs": [],
   "source": [
    "import pandas as pd\n",
    "import matplotlib.pyplot as plt\n",
    "import seaborn as sns\n",
    "from sklearn.preprocessing import MinMaxScaler\n",
    "import numpy as np"
   ]
  },
  {
   "cell_type": "markdown",
   "metadata": {},
   "source": [
    "# Sommaire\n",
    "\n",
    "* [Regression linéaire simple](#chapter1)\n",
    "    * [Données](#section_1_1)\n",
    "    * [Création de la droite d'équation](#section_1_2)\n",
    "    * [Prédiction](#section_1_3)\n",
    "\n",
    "* [Régression linéaire multiple](#chapter2)\n",
    "    * [Données](#section_2_1)\n",
    "    * [Data preprocessing](#section_2_2)\n",
    "    * [Matrice de Correlation](#section_2_3)\n",
    "    * [Concept d'entraînement du modèle](#section_2_5)\n",
    "    * [Modèle prédictif saisonnier](#section_2_5)\n",
    "    * [Modèle prédictif non saisonnier](#section_2_6)\n",
    "    * [Prédiction du Nombre de PC vendus](#section_2_7)\n",
    "    "
   ]
  },
  {
   "cell_type": "markdown",
   "metadata": {},
   "source": [
    "Nous sommes mandatés par l'entreprise XYZ, qui vends des ordinateurs, cette dernière stock des données depuis 5 ans mais ne sait pas trop les exploiter. L'entreprise XYZ aimerait avoir une estimation de ses ventes de PC pour gérer le stock ainsi que staffer les équipes en conséquence. Nous allons voir ce que nous pourrions faire en tant que jeune Data Scientist"
   ]
  },
  {
   "cell_type": "markdown",
   "metadata": {},
   "source": [
    "# Régression linéaire simple <a id=\"chapter1\"></a>"
   ]
  },
  {
   "cell_type": "markdown",
   "metadata": {},
   "source": [
    "Dans un premier temps, l'entreprise nous fournit simplement le nombre de ventes de PC sur les 5 ans. Nous allons essayer de faire une regression linéaire simple pour pouvoir essayer de prédire le nombre de ventes"
   ]
  },
  {
   "cell_type": "code",
   "execution_count": 3,
   "metadata": {},
   "outputs": [],
   "source": [
    "df = pd.read_excel(\"Dataset/Data_computer_sells.xlsx\")"
   ]
  },
  {
   "cell_type": "code",
   "execution_count": 4,
   "metadata": {},
   "outputs": [
    {
     "data": {
      "text/html": [
       "<div>\n",
       "<style scoped>\n",
       "    .dataframe tbody tr th:only-of-type {\n",
       "        vertical-align: middle;\n",
       "    }\n",
       "\n",
       "    .dataframe tbody tr th {\n",
       "        vertical-align: top;\n",
       "    }\n",
       "\n",
       "    .dataframe thead th {\n",
       "        text-align: right;\n",
       "    }\n",
       "</style>\n",
       "<table border=\"1\" class=\"dataframe\">\n",
       "  <thead>\n",
       "    <tr style=\"text-align: right;\">\n",
       "      <th></th>\n",
       "      <th>Mois</th>\n",
       "      <th>Computers_number</th>\n",
       "    </tr>\n",
       "  </thead>\n",
       "  <tbody>\n",
       "    <tr>\n",
       "      <th>0</th>\n",
       "      <td>1</td>\n",
       "      <td>1</td>\n",
       "    </tr>\n",
       "    <tr>\n",
       "      <th>1</th>\n",
       "      <td>2</td>\n",
       "      <td>4</td>\n",
       "    </tr>\n",
       "    <tr>\n",
       "      <th>2</th>\n",
       "      <td>3</td>\n",
       "      <td>5</td>\n",
       "    </tr>\n",
       "    <tr>\n",
       "      <th>3</th>\n",
       "      <td>4</td>\n",
       "      <td>7</td>\n",
       "    </tr>\n",
       "    <tr>\n",
       "      <th>4</th>\n",
       "      <td>5</td>\n",
       "      <td>6</td>\n",
       "    </tr>\n",
       "  </tbody>\n",
       "</table>\n",
       "</div>"
      ],
      "text/plain": [
       "   Mois  Computers_number\n",
       "0     1                 1\n",
       "1     2                 4\n",
       "2     3                 5\n",
       "3     4                 7\n",
       "4     5                 6"
      ]
     },
     "execution_count": 4,
     "metadata": {},
     "output_type": "execute_result"
    }
   ],
   "source": [
    "df.head()"
   ]
  },
  {
   "cell_type": "markdown",
   "metadata": {},
   "source": [
    "## Données <a id=\"section_1_1\"></a>"
   ]
  },
  {
   "cell_type": "code",
   "execution_count": 5,
   "metadata": {},
   "outputs": [],
   "source": [
    "X = df.iloc[0:len(df),0]\n",
    "Y = df.iloc[0:len(df),1] "
   ]
  },
  {
   "cell_type": "markdown",
   "metadata": {},
   "source": [
    "On affiche simplement les données sous forme de nuage de points pour avoir une réprésentation graphique de nos données"
   ]
  },
  {
   "cell_type": "code",
   "execution_count": 6,
   "metadata": {
    "scrolled": true
   },
   "outputs": [
    {
     "data": {
      "image/png": "[encoded data removed]",
      "text/plain": [
       "<Figure size 1440x360 with 1 Axes>"
      ]
     },
     "metadata": {
      "needs_background": "light"
     },
     "output_type": "display_data"
    }
   ],
   "source": [
    "plt.figure(figsize=(20,5))\n",
    "axes = plt.axes()\n",
    "plt.scatter(X,Y) \n",
    "plt.show()"
   ]
  },
  {
   "cell_type": "markdown",
   "metadata": {},
   "source": [
    "Lors d'une régression linéaire, on va trouver une droite qui a pour équation une fonction affine de la forme y=ax+b avec a la pente et b l'ordonnée a l'origine. \n",
    "[Rappel pour ceux qui ont dormis pendant les cours de Maths](https://fr.wikipedia.org/wiki/Fonction_affine)\n",
    "\n",
    "Le x de notre fonction correspondra a la valeur qu'on a sur l'axe des abscisses"
   ]
  },
  {
   "cell_type": "markdown",
   "metadata": {},
   "source": [
    "## Création de la droite d'équation <a id=\"section_1_2\"></a>"
   ]
  },
  {
   "cell_type": "code",
   "execution_count": 7,
   "metadata": {},
   "outputs": [
    {
     "name": "stdout",
     "output_type": "stream",
     "text": [
      "l'équation de droite est une fonction affine de la forme y = ax+b avec a = 0.9197277021394831 , et y = 7.664971751412434\n"
     ]
    }
   ],
   "source": [
    "from scipy import stats\n",
    "pente, ordonnee_origine, r_value, p_value, std_err = stats.linregress(X, Y)\n",
    "#print(stats.linregress(X, Y))\n",
    "print(\"l'équation de droite est une fonction affine de la forme y = ax+b avec a =\", pente, \", et y =\", ordonnee_origine)\n"
   ]
  },
  {
   "cell_type": "markdown",
   "metadata": {},
   "source": [
    "On crée ici une fonction qui va tracé la droite d'équation y = 0.9197277021394831x + 7.664971751412434"
   ]
  },
  {
   "cell_type": "code",
   "execution_count": 8,
   "metadata": {},
   "outputs": [],
   "source": [
    "def equationline(x):\n",
    "    return pente * x + ordonnee_origine"
   ]
  },
  {
   "cell_type": "markdown",
   "metadata": {},
   "source": [
    "On trace la droite d'équation y = 0.9197277021394831x + 7.664971751412434"
   ]
  },
  {
   "cell_type": "code",
   "execution_count": 9,
   "metadata": {
    "scrolled": true
   },
   "outputs": [
    {
     "data": {
      "text/plain": [
       "[<matplotlib.lines.Line2D at 0x23aaabb5608>]"
      ]
     },
     "execution_count": 9,
     "metadata": {},
     "output_type": "execute_result"
    },
    {
     "data": {
      "image/png": "[encoded data removed]",
      "text/plain": [
       "<Figure size 1440x360 with 1 Axes>"
      ]
     },
     "metadata": {
      "needs_background": "light"
     },
     "output_type": "display_data"
    }
   ],
   "source": [
    "plt.figure(figsize=(20,5))\n",
    "fitLine = equationline(X)\n",
    "plt.scatter(X,Y) \n",
    "plt.plot(X, fitLine, c='r')"
   ]
  },
  {
   "cell_type": "markdown",
   "metadata": {},
   "source": [
    "En remplacant maintenant le x pour la valeur d'un mois en abscisse on pourra avoir une idée du nombres d'ordinateurs vendus, il s'agit déjà de faire de la prédiction de ventes, peu précise certes, mais de la prédiction quand même ! \n",
    "\n",
    "La fonction ci dessous retourne une estimation du nombre d'ordinateur vendus en fonction du mois de l'entreprise"
   ]
  },
  {
   "cell_type": "markdown",
   "metadata": {},
   "source": [
    "## Prédiction <a id=\"section_1_3\"></a>"
   ]
  },
  {
   "cell_type": "code",
   "execution_count": 10,
   "metadata": {},
   "outputs": [],
   "source": [
    "def prediction (x):\n",
    "    predicted_value = pente * x + ordonnee_origine\n",
    "    return predicted_value"
   ]
  },
  {
   "cell_type": "code",
   "execution_count": 11,
   "metadata": {},
   "outputs": [
    {
     "data": {
      "text/plain": [
       "118.03229600815041"
      ]
     },
     "execution_count": 11,
     "metadata": {},
     "output_type": "execute_result"
    }
   ],
   "source": [
    "prediction(120)"
   ]
  },
  {
   "cell_type": "code",
   "execution_count": 12,
   "metadata": {},
   "outputs": [
    {
     "data": {
      "text/plain": [
       "1111.338214318792"
      ]
     },
     "execution_count": 12,
     "metadata": {},
     "output_type": "execute_result"
    }
   ],
   "source": [
    "prediction(1200)"
   ]
  },
  {
   "cell_type": "code",
   "execution_count": 13,
   "metadata": {},
   "outputs": [],
   "source": [
    "def prediction_vs_reality (x):\n",
    "    predicted_value = prediction (x)\n",
    "    real_value = df['Computers_number'][x]\n",
    "    return predicted_value, real_value"
   ]
  },
  {
   "cell_type": "markdown",
   "metadata": {},
   "source": [
    "La fonction ci dessus permet simplement de comparé la données prédite avec celle dans notre jeu de données \n",
    "\n",
    "**/!\\ Attention notre jeu de données ne contient que 50 mois de données si vous executez le code :**\n",
    "```python\n",
    "prediction_vs_reality(100) \n",
    "``` \n",
    "**Vous aurez une erreur car la limite de notre jeu de données est 49 /!\\**"
   ]
  },
  {
   "cell_type": "code",
   "execution_count": 14,
   "metadata": {},
   "outputs": [
    {
     "data": {
      "text/plain": [
       "(7.664971751412434, 1)"
      ]
     },
     "execution_count": 14,
     "metadata": {},
     "output_type": "execute_result"
    }
   ],
   "source": [
    "prediction_vs_reality(0)"
   ]
  },
  {
   "cell_type": "code",
   "execution_count": 15,
   "metadata": {},
   "outputs": [
    {
     "data": {
      "text/plain": [
       "(27.89898119848106, 29)"
      ]
     },
     "execution_count": 15,
     "metadata": {},
     "output_type": "execute_result"
    }
   ],
   "source": [
    "prediction_vs_reality(22)"
   ]
  },
  {
   "cell_type": "markdown",
   "metadata": {},
   "source": [
    "# Régression linéaire multiple <a id=\"chapter2\"></a>"
   ]
  },
  {
   "cell_type": "code",
   "execution_count": 16,
   "metadata": {},
   "outputs": [],
   "source": [
    "df = pd.read_excel(\"Dataset/Data_computer_sells_multivariate.xlsx\")\n",
    "df2 = df.drop([\"Mois\"], axis=1)"
   ]
  },
  {
   "cell_type": "code",
   "execution_count": 17,
   "metadata": {},
   "outputs": [
    {
     "data": {
      "text/html": [
       "<div>\n",
       "<style scoped>\n",
       "    .dataframe tbody tr th:only-of-type {\n",
       "        vertical-align: middle;\n",
       "    }\n",
       "\n",
       "    .dataframe tbody tr th {\n",
       "        vertical-align: top;\n",
       "    }\n",
       "\n",
       "    .dataframe thead th {\n",
       "        text-align: right;\n",
       "    }\n",
       "</style>\n",
       "<table border=\"1\" class=\"dataframe\">\n",
       "  <thead>\n",
       "    <tr style=\"text-align: right;\">\n",
       "      <th></th>\n",
       "      <th>Computers_number</th>\n",
       "      <th>Add_expense</th>\n",
       "      <th>Production_expense</th>\n",
       "      <th>Shop_number</th>\n",
       "      <th>mean_computer_buy</th>\n",
       "      <th>mean_weather</th>\n",
       "      <th>Population</th>\n",
       "    </tr>\n",
       "  </thead>\n",
       "  <tbody>\n",
       "    <tr>\n",
       "      <th>0</th>\n",
       "      <td>1</td>\n",
       "      <td>10000</td>\n",
       "      <td>2000.000000</td>\n",
       "      <td>1</td>\n",
       "      <td>555685</td>\n",
       "      <td>16</td>\n",
       "      <td>64301000</td>\n",
       "    </tr>\n",
       "    <tr>\n",
       "      <th>1</th>\n",
       "      <td>4</td>\n",
       "      <td>12000</td>\n",
       "      <td>1998.000000</td>\n",
       "      <td>1</td>\n",
       "      <td>277262</td>\n",
       "      <td>-9</td>\n",
       "      <td>64307000</td>\n",
       "    </tr>\n",
       "    <tr>\n",
       "      <th>2</th>\n",
       "      <td>5</td>\n",
       "      <td>14000</td>\n",
       "      <td>1996.002000</td>\n",
       "      <td>1</td>\n",
       "      <td>191684</td>\n",
       "      <td>-6</td>\n",
       "      <td>64307000</td>\n",
       "    </tr>\n",
       "    <tr>\n",
       "      <th>3</th>\n",
       "      <td>7</td>\n",
       "      <td>12000</td>\n",
       "      <td>1994.005998</td>\n",
       "      <td>1</td>\n",
       "      <td>700569</td>\n",
       "      <td>1</td>\n",
       "      <td>64314000</td>\n",
       "    </tr>\n",
       "    <tr>\n",
       "      <th>4</th>\n",
       "      <td>6</td>\n",
       "      <td>11000</td>\n",
       "      <td>1992.011992</td>\n",
       "      <td>1</td>\n",
       "      <td>959654</td>\n",
       "      <td>14</td>\n",
       "      <td>64326000</td>\n",
       "    </tr>\n",
       "  </tbody>\n",
       "</table>\n",
       "</div>"
      ],
      "text/plain": [
       "   Computers_number  Add_expense  Production_expense  Shop_number  \\\n",
       "0                 1        10000         2000.000000            1   \n",
       "1                 4        12000         1998.000000            1   \n",
       "2                 5        14000         1996.002000            1   \n",
       "3                 7        12000         1994.005998            1   \n",
       "4                 6        11000         1992.011992            1   \n",
       "\n",
       "   mean_computer_buy  mean_weather  Population  \n",
       "0             555685            16    64301000  \n",
       "1             277262            -9    64307000  \n",
       "2             191684            -6    64307000  \n",
       "3             700569             1    64314000  \n",
       "4             959654            14    64326000  "
      ]
     },
     "execution_count": 17,
     "metadata": {},
     "output_type": "execute_result"
    }
   ],
   "source": [
    "df2.head()"
   ]
  },
  {
   "cell_type": "markdown",
   "metadata": {},
   "source": [
    "Ici on a un extrait de données beaucoup plus dense, avec 7 colonnes : \n",
    "* Le nombre de PC vendu par l'entreprise par mois\n",
    "* Le prix dépensé en pub pour l'entreprise par mois (en €)\n",
    "* Le coût de production d'un PC pour l'entreprise\n",
    "* Le nombre de magasin présent en France\n",
    "* Le nombre moyen d'ordinateur acheté en France\n",
    "* La moyenne des température en France sur le mois \n",
    "* Population Française sur le mois\n"
   ]
  },
  {
   "cell_type": "markdown",
   "metadata": {},
   "source": [
    "## Données <a id=\"section_2_1\"></a>"
   ]
  },
  {
   "cell_type": "markdown",
   "metadata": {},
   "source": [
    "On essaye de regarder nos données graphiquement, pour observer comme nous l'avions fait dans les étapes précédente"
   ]
  },
  {
   "cell_type": "code",
   "execution_count": null,
   "metadata": {
    "scrolled": true
   },
   "outputs": [],
   "source": [
    "plt.figure(figsize=(20,5))\n",
    "plt.xlabel('Month')\n",
    "plt.plot(df['Computers_number'],label=\"Nombre de PC vendus\")\n",
    "plt.plot(df['Add_expense'],label=\"Coûts des publicités\")\n",
    "#plt.plot(df['Production_expense'],label=\"Coûts de production des PC\")\n",
    "#plt.plot(df['Shop_number'],label=\"Nombres de Boutiques\")\n",
    "#plt.plot(df['mean_computer_buy'],label=\"Nombre de PC moyen vendus dans le monde\")\n",
    "#plt.plot(df['mean_weather'],label=\"Moyenne de la météo sur le mois en °C\")\n",
    "plt.plot(df['Population'],label=\"Population en France sur le mois\")\n",
    "plt.legend()"
   ]
  },
  {
   "cell_type": "markdown",
   "metadata": {},
   "source": [
    "Comme vous on peut le constater sur le graphique, on ne voit rien ! Cela est dû au faites que **les données ne sont pas du même ordre de grandeur** ! \n",
    "\n",
    "En effet le nombre de PC est un nombre compris entre 1 et 100 alors que la population Française est se chiffre en millions.\n",
    "Voici une méthode pour remédier a ce problème"
   ]
  },
  {
   "cell_type": "markdown",
   "metadata": {},
   "source": [
    "## Data preprocessing, la normalisation min-max <a id=\"section_2_2\"></a>"
   ]
  },
  {
   "cell_type": "markdown",
   "metadata": {},
   "source": [
    "La normalisation min-max est l'une des méthodes les plus courantes pour normaliser des données. Pour chaque caractéristique, la valeur minimale de cette caractéristique est transformée en un 0, la valeur maximale est transformée en un 1, et toutes les autres valeurs sont transformées en une décimale entre 0 et 1."
   ]
  },
  {
   "cell_type": "markdown",
   "metadata": {},
   "source": [
    "![alt text](norm.png \"Title\")"
   ]
  },
  {
   "cell_type": "code",
   "execution_count": null,
   "metadata": {},
   "outputs": [],
   "source": [
    "std_scaler = MinMaxScaler().fit(df[[\"Computers_number\",\"Add_expense\",\"Production_expense\",\"Shop_number\",\"mean_computer_buy\",\"mean_weather\",\"Population\"]])"
   ]
  },
  {
   "cell_type": "code",
   "execution_count": null,
   "metadata": {},
   "outputs": [],
   "source": [
    "df_std = std_scaler.transform(df[[\"Computers_number\",\"Add_expense\",\"Production_expense\",\"Shop_number\",\"mean_computer_buy\",\"mean_weather\",\"Population\"]])"
   ]
  },
  {
   "cell_type": "code",
   "execution_count": null,
   "metadata": {},
   "outputs": [],
   "source": [
    "dataset = pd.DataFrame({'Computers_number': df_std[:, 0], 'Add_expense': df_std[:, 1],'Production_expense': df_std[:, 2],'Shop_number': df_std[:, 3],\n",
    "                         'mean_computer_buy': df_std[:, 4],'mean_weather': df_std[:, 5],'Population': df_std[:, 6]})"
   ]
  },
  {
   "cell_type": "markdown",
   "metadata": {},
   "source": [
    "On affiche a nouveau les même données que precedemment mais normalisé "
   ]
  },
  {
   "cell_type": "code",
   "execution_count": null,
   "metadata": {},
   "outputs": [],
   "source": [
    "plt.figure(figsize=(20,5))\n",
    "plt.xlabel('Month')\n",
    "plt.plot(dataset['Computers_number'],label=\"Nombre de PC vendus\")\n",
    "plt.plot(dataset['Add_expense'],label=\"Coûts des publicités\")\n",
    "#plt.plot(dataset['Production_expense'],label=\"Coûts de production des PC\")\n",
    "#plt.plot(dataset['Shop_number'],label=\"Nombres de Boutiques\")\n",
    "#plt.plot(dataset['mean_computer_buy'],label=\"Nombre de PC moyen vendus dans le monde\")\n",
    "#plt.plot(dataset['mean_weather'],label=\"Moyenne de la météo sur le mois en °C\")\n",
    "plt.plot(dataset['Population'],label=\"Population en France sur le mois\")\n",
    "plt.legend()"
   ]
  },
  {
   "cell_type": "markdown",
   "metadata": {},
   "source": [
    "On remarque rien que graphiquement des similitudes dans les données. \n",
    "\n",
    "Cependant une simple suspicion n'est pas suffisante, il va falloir en avoir le coeur net ! "
   ]
  },
  {
   "cell_type": "markdown",
   "metadata": {},
   "source": [
    "## Matrice de corrélation <a id=\"section_2_3\"></a>"
   ]
  },
  {
   "cell_type": "markdown",
   "metadata": {},
   "source": [
    "Pour rappel :   \n",
    "La corrélation entre 2 variables est exprimé par un nombre compris en -1 inclus et 1 inclus.   \n",
    "Si le nombre est proche de 1, les variables sont corrélées positivement entre elles.  \n",
    "Au contraire si le nombre est proche de -1, les variables sont corrélées négativement entre elles.  \n",
    "Si le nombre est proche de 0, les variables ne sont pas corrélées.  \n",
    "\n",
    "Le fait que deux variables soient fortement corrélées ne démontre pas qu'il y ait une relation de causalité entre l'une et l'autre. Le contre-exemple le plus typique est celui où elles sont en fait liées par une causalité commune.\n",
    "\n",
    "Nous utilisons ici la corrélation de Pearson pour etudier la corrélation linéaire entre nos variables"
   ]
  },
  {
   "cell_type": "code",
   "execution_count": null,
   "metadata": {},
   "outputs": [],
   "source": [
    "matrice_corr = df2.corr().round(1)\n",
    "sns.heatmap(data=matrice_corr, annot=True)"
   ]
  },
  {
   "cell_type": "markdown",
   "metadata": {},
   "source": [
    "On remarque que 4 variables sont très corrélé a notre variable Computers_number qu'on veut essayer de prédire: Add_expense, Production_expense, Shop_number et Population.  \n",
    "Nous avons donc 4 variables que nous pouvons utilisé pour prédire notre nombre de vente.\n",
    "\n",
    "Il est l'heure d'entrainer notre modèle !"
   ]
  },
  {
   "cell_type": "markdown",
   "metadata": {},
   "source": [
    "## Entrainer un modèle <a id=\"section_2_4\"></a>"
   ]
  },
  {
   "cell_type": "markdown",
   "metadata": {},
   "source": [
    "![alt text](image.png \"Title\")"
   ]
  },
  {
   "cell_type": "markdown",
   "metadata": {},
   "source": [
    "Pour l'entrainement d'un modèle en Machine Learning et Deep Learning, en général il faut constituer 2 jeux de données distincts, le jeu de données qui va permettre a notre modèle de s'entraîner, il est généralement plus gros et permet au modèle de s'entraîner sur la données. Il y a dans un second temps le dataset de validation, qui lui va servir a confirmer que notre modèle a bien appris des concepts et n'a pas calqué nos données d'netrainement et cela permet d'éviter [l'overfitting (surrapprentissage)](https://fr.wikipedia.org/wiki/Surapprentissage#:~:text=En%20statistique%2C%20le%20surapprentissage%2C%20ou,d'un%20ensemble%20de%20donn%C3%A9es.)"
   ]
  },
  {
   "cell_type": "markdown",
   "metadata": {},
   "source": [
    "## Modèle prédictif saisonnier <a id=\"section_2_5\"></a>"
   ]
  },
  {
   "cell_type": "code",
   "execution_count": null,
   "metadata": {},
   "outputs": [],
   "source": [
    "X=pd.DataFrame(np.c_[df2['Add_expense'],\n",
    "                     df2['Production_expense'],\n",
    "                     df2['Shop_number'],\n",
    "                     #df2['Population']\n",
    "                    ],\n",
    "               \n",
    "                     columns = ['Add_expense',\n",
    "                                'Production_expense',\n",
    "                                'Shop_number',\n",
    "                                #'Population'\n",
    "                                 ])"
   ]
  },
  {
   "cell_type": "code",
   "execution_count": null,
   "metadata": {},
   "outputs": [],
   "source": [
    "Y=df2.Computers_number"
   ]
  },
  {
   "cell_type": "code",
   "execution_count": null,
   "metadata": {},
   "outputs": [],
   "source": [
    "X_train = pd.DataFrame({'Add_expense': df2['Add_expense'][0:45], \n",
    "                        'Production_expense': df2['Production_expense'][0:45],\n",
    "                        'Shop_number': df2['Shop_number'][0:45],\n",
    "                        #'Population': df2['Population'][0:45]\n",
    "                       })\n",
    "\n",
    "\n",
    "X_test =  pd.DataFrame({'Add_expense': df2['Add_expense'][45:60], \n",
    "                        'Production_expense': df2['Production_expense'][45:60],\n",
    "                        'Shop_number': df2['Shop_number'][45:60],\n",
    "                        #'Population': df2['Population'][45:60]\n",
    "                       })\n",
    "#on affiche la shape de nos deux dataset\n",
    "print(X_train.shape)\n",
    "print(X_test.shape)"
   ]
  },
  {
   "cell_type": "code",
   "execution_count": null,
   "metadata": {},
   "outputs": [],
   "source": [
    "Y_train = Y[0:45]\n",
    "Y_test = Y[45:60]\n",
    "print(Y_train.shape)\n",
    "print(Y_test.shape)"
   ]
  },
  {
   "cell_type": "code",
   "execution_count": null,
   "metadata": {},
   "outputs": [],
   "source": [
    "#entrainement du modèle\n",
    "from sklearn.linear_model import LinearRegression\n",
    "from sklearn.metrics import mean_squared_error\n",
    "\n",
    "#chargement du modèle \n",
    "lmodellineaire = LinearRegression()\n",
    "#on lui donne les données d'entrainement \n",
    "lmodellineaire.fit(X_train, Y_train)"
   ]
  },
  {
   "cell_type": "markdown",
   "metadata": {},
   "source": [
    "Pour vérifier la fiabilité de notre modèle, nous allons utiliser 2 moyen d'evaluation, la RMSE et le score R2 sur les données d'apprentissages et sur les données de test. \n",
    "\n",
    "En statistique, le coefficient de détermination linéaire de Pearson, noté R2 ou r2, est une mesure de la qualité de la prédiction d'une régression linéaire.\n",
    "\n",
    "La racine de l'erreur quadratique moyenne (en anglais, root mean square error, RMSE) est une mesure fréquemment utilisée des différences entre les valeurs (valeurs d'échantillon ou de population) prédites par un modèle ou estimateur et les valeurs observées (ou vraies valeurs). Il s'agit simplement de la moyenne des écarts entre données données réelles et données prédites."
   ]
  },
  {
   "cell_type": "code",
   "execution_count": null,
   "metadata": {},
   "outputs": [],
   "source": [
    "from sklearn.metrics import r2_score\n",
    "\n",
    "y_train_predict = lmodellineaire.predict(X_train)\n",
    "#la Rmse est la racine carré de la Mean square error (MSE), permet de savoir en moyenne l'erreur de prediction par rapport aux \n",
    "#données réelle\n",
    "rmse = (np.sqrt(mean_squared_error(Y_train, y_train_predict)))\n",
    "#Coefficient de determination linéaire de pearson \n",
    "r2 = r2_score(Y_train, y_train_predict)\n",
    "\n",
    "#affichage des metrics pour l'entrainement \n",
    "print(\"La performance du modèle sur la base d'apprentissage\")\n",
    "print(\"L'erreur quadratique moyenne est {}\".format(rmse))\n",
    "print('le score R2 est {}'.format(r2))\n",
    "print('\\n')\n",
    " \n",
    "y_test_predict = lmodellineaire.predict(X_test)\n",
    "rmse = (np.sqrt(mean_squared_error(Y_test, y_test_predict)))\n",
    "r2 = r2_score(Y_test, y_test_predict)\n",
    "\n",
    "#affichage des metrics sur la validation\n",
    "print('La performance du modèle sur la base de test')\n",
    "print(\"L'erreur quadratique moyenne est {}\".format(rmse))\n",
    "print('le score R2 est {}'.format(r2))"
   ]
  },
  {
   "cell_type": "code",
   "execution_count": null,
   "metadata": {},
   "outputs": [],
   "source": [
    "predict=[]\n",
    "real=[]"
   ]
  },
  {
   "cell_type": "code",
   "execution_count": null,
   "metadata": {},
   "outputs": [],
   "source": [
    "#permet de stockées les valeur réelle et les valeur predite sur l'entrainement \n",
    "for i in range (0,Y_train.shape[0]):\n",
    "    predict.append(y_train_predict[i])\n",
    "    real.append(Y_train.values[i])"
   ]
  },
  {
   "cell_type": "code",
   "execution_count": null,
   "metadata": {},
   "outputs": [],
   "source": [
    "#permet de stockées les valeur réelle et les valeur predite sur la validation \n",
    "for i in range (0,Y_test.shape[0]):\n",
    "    predict.append(y_test_predict[i])\n",
    "    real.append(Y_test.values[i])"
   ]
  },
  {
   "cell_type": "markdown",
   "metadata": {},
   "source": [
    "Graphique réprésentant les données Réelles et les données Prédites"
   ]
  },
  {
   "cell_type": "code",
   "execution_count": null,
   "metadata": {},
   "outputs": [],
   "source": [
    "#affiche graphiquement en bleu les valeurs réelle et en orange les valeurs prédite\n",
    "plt.figure(figsize=(20,5))\n",
    "plt.plot(real, label='Real')\n",
    "plt.plot(predict, label='Predict')\n",
    "plt.legend()"
   ]
  },
  {
   "cell_type": "markdown",
   "metadata": {},
   "source": [
    "## Modèle prédictif non saisonnier <a id=\"section_2_6\"></a>"
   ]
  },
  {
   "cell_type": "markdown",
   "metadata": {},
   "source": [
    "Même méthode sauf qu'ici notre dataset de test va etre constituer avec des valeurs aléatoires de notre dataset de base"
   ]
  },
  {
   "cell_type": "code",
   "execution_count": null,
   "metadata": {},
   "outputs": [],
   "source": [
    "from sklearn.model_selection import train_test_split\n",
    "#Ici on ne veut pas se baser sur la saisonnalité on va donc constituer nos datasets d'entrainement et de validation aléatoirement \n",
    "X_train, X_test, Y_train, Y_test = train_test_split(X, Y, test_size = 0.25, random_state=5)\n",
    "print(X_train.shape)\n",
    "print(X_test.shape)\n",
    "print(Y_train.shape)\n",
    "print(Y_test.shape)"
   ]
  },
  {
   "cell_type": "code",
   "execution_count": null,
   "metadata": {},
   "outputs": [],
   "source": [
    "#entrainement du modèle\n",
    "from sklearn.linear_model import LinearRegression\n",
    "from sklearn.metrics import mean_squared_error\n",
    "\n",
    "#chargement du modèle \n",
    "lmodellineaire = LinearRegression()\n",
    "#on lui donne les données d'entrainement \n",
    "lmodellineaire.fit(X_train, Y_train)"
   ]
  },
  {
   "cell_type": "code",
   "execution_count": null,
   "metadata": {},
   "outputs": [],
   "source": [
    "from sklearn.metrics import r2_score\n",
    "\n",
    "#On lance l'entrainement de notre modèle\n",
    "y_train_predict = lmodellineaire.predict(X_train)\n",
    "\n",
    "#la Rmse est la racine carré de la Mean square error (MSE), permet de savoir en moyenne l'erreur de prediction par rapport aux \n",
    "#données réelle\n",
    "rmse = (np.sqrt(mean_squared_error(Y_train, y_train_predict)))\n",
    "\n",
    "#Coefficient de determination linéaire de pearson \n",
    "r2 = r2_score(Y_train, y_train_predict)\n",
    "\n",
    "#affichage des metrics pour l'entrainement \n",
    "print(\"La performance du modèle sur la base d'apprentissage\")\n",
    "print(\"L'erreur quadratique moyenne est {}\".format(rmse))\n",
    "print('le score R2 est {}'.format(r2))\n",
    "print('\\n')\n",
    " \n",
    "y_test_predict = lmodellineaire.predict(X_test)\n",
    "\n",
    "#affichage des metrics sur la validation\n",
    "print('La performance du modèle sur la base de test')\n",
    "print(\"L'erreur quadratique moyenne est {}\".format(rmse))\n",
    "print('le score R2 est {}'.format(r2))"
   ]
  },
  {
   "cell_type": "code",
   "execution_count": null,
   "metadata": {},
   "outputs": [],
   "source": [
    "predict=[]\n",
    "real=[]"
   ]
  },
  {
   "cell_type": "code",
   "execution_count": null,
   "metadata": {},
   "outputs": [],
   "source": [
    "#permet de stockées les valeur réelle et les valeur predite sur l'entrainement \n",
    "for i in range (0,Y_train.shape[0]):\n",
    "    predict.append(y_train_predict[i])\n",
    "    real.append(Y_train.values[i])"
   ]
  },
  {
   "cell_type": "code",
   "execution_count": null,
   "metadata": {},
   "outputs": [],
   "source": [
    "#permet de stockées les valeur réelle et les valeur predite sur la validation \n",
    "for i in range (0,Y_test.shape[0]):\n",
    "    predict.append(y_test_predict[i])\n",
    "    real.append(Y_test.values[i])"
   ]
  },
  {
   "cell_type": "code",
   "execution_count": null,
   "metadata": {},
   "outputs": [],
   "source": [
    "#affiche graphiquement en bleu les valeurs réelle et en orange les valeurs prédite\n",
    "plt.figure(figsize=(20,5))\n",
    "plt.plot(real, label='Real')\n",
    "plt.plot(predict, label='Predict')\n",
    "plt.legend()"
   ]
  },
  {
   "cell_type": "markdown",
   "metadata": {},
   "source": [
    "## Prédiction du nombre de PC vendus <a id=\"section_2_7\"></a>"
   ]
  },
  {
   "cell_type": "markdown",
   "metadata": {},
   "source": [
    "Une fois qu'on a choisit notre modèle, nous allons maintenant pouvoir prédire le nombre de PC vendus en fonction de nos variables choisit au début pour rappel :    \n",
    "Add_expense, Production_expense, Shop_number et Population."
   ]
  },
  {
   "cell_type": "code",
   "execution_count": null,
   "metadata": {},
   "outputs": [],
   "source": [
    "Add_expense = 68000\n",
    "Production_expense = 1885\n",
    "Shop_number = 15"
   ]
  },
  {
   "cell_type": "code",
   "execution_count": null,
   "metadata": {},
   "outputs": [],
   "source": [
    "lmodellineaire.predict([[Add_expense, Production_expense, Shop_number]])"
   ]
  },
  {
   "cell_type": "markdown",
   "metadata": {},
   "source": [
    "On obtient un résultat d'environ 72 vs 78 dans notre jeu de données donc on a un résultats pas totatelement absurde avec une marge d'erreur de 10% environ, mais on peut du coup faire des prédictions maintenant avec des valeurs que nous n'avons jamais eut par exemple :  \n",
    "\n",
    "On simule l'augmentation de l'add expense de 20K € et le nombre de shop de 15 a 17 et on diminue le cout de prod de 100 €"
   ]
  },
  {
   "cell_type": "code",
   "execution_count": null,
   "metadata": {},
   "outputs": [],
   "source": [
    "Add_expense = 88000\n",
    "Production_expense = 1835\n",
    "Shop_number = 17"
   ]
  },
  {
   "cell_type": "code",
   "execution_count": null,
   "metadata": {},
   "outputs": [],
   "source": [
    "lmodellineaire.predict([[Add_expense, Production_expense, Shop_number]])"
   ]
  },
  {
   "cell_type": "markdown",
   "metadata": {},
   "source": [
    "on observe qu'avec ces modifications, le modèles estime qu'on devrait pouvoir arrivé a un résultats d'environ 120 PCs vendus sur le mois."
   ]
  },
  {
   "cell_type": "markdown",
   "metadata": {},
   "source": [
    "## Modèles plus performant :"
   ]
  }
 ],
 "metadata": {
  "kernelspec": {
   "display_name": "Python 3",
   "language": "python",
   "name": "python3"
  },
  "language_info": {
   "codemirror_mode": {
    "name": "ipython",
    "version": 3
   },
   "file_extension": ".py",
   "mimetype": "text/x-python",
   "name": "python",
   "nbconvert_exporter": "python",
   "pygments_lexer": "ipython3",
   "version": "3.7.6"
  }
 },
 "nbformat": 4,
 "nbformat_minor": 4
}
